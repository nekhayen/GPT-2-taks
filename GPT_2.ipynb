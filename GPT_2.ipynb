{
  "nbformat": 4,
  "nbformat_minor": 0,
  "metadata": {
    "colab": {
      "name": "GPT-2.ipynb",
      "provenance": [],
      "collapsed_sections": [],
      "authorship_tag": "ABX9TyMPvqAeveNyOteqdy1YPrmk",
      "include_colab_link": true
    },
    "kernelspec": {
      "name": "python3",
      "display_name": "Python 3"
    },
    "accelerator": "GPU"
  },
  "cells": [
    {
      "cell_type": "markdown",
      "metadata": {
        "id": "view-in-github",
        "colab_type": "text"
      },
      "source": [
        "<a href=\"https://colab.research.google.com/github/nekhayen/GPT-2-taks/blob/main/GPT_2.ipynb\" target=\"_parent\"><img src=\"https://colab.research.google.com/assets/colab-badge.svg\" alt=\"Open In Colab\"/></a>"
      ]
    },
    {
      "cell_type": "code",
      "metadata": {
        "id": "XfgwqatTVNDR"
      },
      "source": [
        "import torch\n",
        "import numpy as np\n",
        "\n"
      ],
      "execution_count": 146,
      "outputs": []
    },
    {
      "cell_type": "code",
      "metadata": {
        "id": "S9hnpiaPWXyL",
        "outputId": "dd75dfe1-059e-4935-87ae-a9b8699ab74a",
        "colab": {
          "base_uri": "https://localhost:8080/",
          "height": 51
        }
      },
      "source": [
        "print(f\"Detected {torch.cuda.device_count()} PyTorch-compatbile GPU devices.\")\n",
        "print(f\"Name of first GPU device: {torch.cuda.get_device_name(0)}\")"
      ],
      "execution_count": 147,
      "outputs": [
        {
          "output_type": "stream",
          "text": [
            "Detected 1 PyTorch-compatbile GPU devices.\n",
            "Name of first GPU device: Tesla T4\n"
          ],
          "name": "stdout"
        }
      ]
    },
    {
      "cell_type": "code",
      "metadata": {
        "id": "rW9IlZP1WxOz",
        "outputId": "9749af2e-c3e8-4978-842f-442887d9916c",
        "colab": {
          "base_uri": "https://localhost:8080/",
          "height": 34
        }
      },
      "source": [
        "#mount google drive with gpt-2\n",
        "from google.colab import drive\n",
        "\n",
        "drive.mount('/content/gdrive', force_remount=False)"
      ],
      "execution_count": 148,
      "outputs": [
        {
          "output_type": "stream",
          "text": [
            "Drive already mounted at /content/gdrive; to attempt to forcibly remount, call drive.mount(\"/content/gdrive\", force_remount=True).\n"
          ],
          "name": "stdout"
        }
      ]
    },
    {
      "cell_type": "code",
      "metadata": {
        "id": "h0USRnpZYJ3v",
        "outputId": "99c5eaa4-f0ef-4a1a-d3b7-05e9cfe71d00",
        "colab": {
          "base_uri": "https://localhost:8080/",
          "height": 289
        }
      },
      "source": [
        "#open cloned transformer-ml package (git clone https://github.com/lopuhin/transformer-lm.git) and install requirements\n",
        "%%shell\n",
        "cd /content/gdrive/My\\ Drive/Colab\\ Notebooks/transformer-lm/\n",
        "pip install -r requirements.txt"
      ],
      "execution_count": 149,
      "outputs": [
        {
          "output_type": "stream",
          "text": [
            "Requirement already satisfied: attrs in /usr/local/lib/python3.6/dist-packages (from -r requirements.txt (line 1)) (20.2.0)\n",
            "Requirement already satisfied: json-log-plots==0.0.1 in /usr/local/lib/python3.6/dist-packages (from -r requirements.txt (line 2)) (0.0.1)\n",
            "Requirement already satisfied: fire==0.1.3 in /usr/local/lib/python3.6/dist-packages (from -r requirements.txt (line 3)) (0.1.3)\n",
            "Requirement already satisfied: matplotlib==3.1.1 in /usr/local/lib/python3.6/dist-packages (from -r requirements.txt (line 4)) (3.1.1)\n",
            "Requirement already satisfied: numpy in /usr/local/lib/python3.6/dist-packages (from -r requirements.txt (line 5)) (1.18.5)\n",
            "Requirement already satisfied: sentencepiece==0.1.8 in /usr/local/lib/python3.6/dist-packages (from -r requirements.txt (line 6)) (0.1.8)\n",
            "Requirement already satisfied: torch in /usr/local/lib/python3.6/dist-packages (from -r requirements.txt (line 7)) (1.6.0+cu101)\n",
            "Requirement already satisfied: tqdm==4.36.1 in /usr/local/lib/python3.6/dist-packages (from -r requirements.txt (line 8)) (4.36.1)\n",
            "Requirement already satisfied: json-lines in /usr/local/lib/python3.6/dist-packages (from json-log-plots==0.0.1->-r requirements.txt (line 2)) (0.5.0)\n",
            "Requirement already satisfied: filelock in /usr/local/lib/python3.6/dist-packages (from json-log-plots==0.0.1->-r requirements.txt (line 2)) (3.0.12)\n",
            "Requirement already satisfied: six in /usr/local/lib/python3.6/dist-packages (from fire==0.1.3->-r requirements.txt (line 3)) (1.15.0)\n",
            "Requirement already satisfied: python-dateutil>=2.1 in /usr/local/lib/python3.6/dist-packages (from matplotlib==3.1.1->-r requirements.txt (line 4)) (2.8.1)\n",
            "Requirement already satisfied: kiwisolver>=1.0.1 in /usr/local/lib/python3.6/dist-packages (from matplotlib==3.1.1->-r requirements.txt (line 4)) (1.2.0)\n",
            "Requirement already satisfied: cycler>=0.10 in /usr/local/lib/python3.6/dist-packages (from matplotlib==3.1.1->-r requirements.txt (line 4)) (0.10.0)\n",
            "Requirement already satisfied: pyparsing!=2.0.4,!=2.1.2,!=2.1.6,>=2.0.1 in /usr/local/lib/python3.6/dist-packages (from matplotlib==3.1.1->-r requirements.txt (line 4)) (2.4.7)\n",
            "Requirement already satisfied: future in /usr/local/lib/python3.6/dist-packages (from torch->-r requirements.txt (line 7)) (0.16.0)\n"
          ],
          "name": "stdout"
        },
        {
          "output_type": "execute_result",
          "data": {
            "text/plain": [
              ""
            ]
          },
          "metadata": {
            "tags": []
          },
          "execution_count": 149
        }
      ]
    },
    {
      "cell_type": "code",
      "metadata": {
        "id": "ij0p2KgHZhnT"
      },
      "source": [
        "#add transformer-lm to Python package path\n",
        "import sys\n",
        "sys.path.append('/content/gdrive/My Drive/Colab Notebooks/transformer-lm/')"
      ],
      "execution_count": 150,
      "outputs": []
    },
    {
      "cell_type": "code",
      "metadata": {
        "id": "OH6zMVjen07V"
      },
      "source": [
        "#Initialization of language model wrapper\n",
        "import lm.inference as lmi\n",
        "from pathlib import Path\n",
        "mw = lmi.ModelWrapper.load(Path(\"/content/gdrive/My Drive/Colab Notebooks/pytorch_models/de345-root/\"))"
      ],
      "execution_count": 151,
      "outputs": []
    },
    {
      "cell_type": "code",
      "metadata": {
        "id": "C9cKFJVqtCnY"
      },
      "source": [
        "def gpt2_gen(mw, prefix, n_tokens_to_generate=150, top_k=5):\n",
        "  prefix_tokens = mw.tokenize(prefix)\n",
        "  generated_tokens = mw.generate_tokens(prefix_tokens, n_tokens_to_generate, top_k)\n",
        "  generated_text = mw.sp_model.DecodePieces(generated_tokens)\n",
        "  return generated_text"
      ],
      "execution_count": 155,
      "outputs": []
    },
    {
      "cell_type": "code",
      "metadata": {
        "id": "I0Jnx7COq3Ae",
        "outputId": "c2db758f-fa7b-4d6e-8702-6828ac70a422",
        "colab": {
          "base_uri": "https://localhost:8080/",
          "height": 120
        }
      },
      "source": [
        "gpt2_gen(mw, \"Capgemini und Audi haben den Start ihres Joint Venture XL2 bekannt gegeben. Nachdem die behördlichen Genehmigungen erteilt worden waren, erfolgte Ende April die Gründung. Das neue Unternehmen wird\")"
      ],
      "execution_count": 156,
      "outputs": [
        {
          "output_type": "stream",
          "text": [
            "/usr/local/lib/python3.6/dist-packages/torch/utils/checkpoint.py:25: UserWarning: None of the inputs have requires_grad=True. Gradients will be None\n",
            "  warnings.warn(\"None of the inputs have requires_grad=True. Gradients will be None\")\n"
          ],
          "name": "stderr"
        },
        {
          "output_type": "execute_result",
          "data": {
            "application/vnd.google.colaboratory.intrinsic+json": {
              "type": "string"
            },
            "text/plain": [
              "'nach der Übernahme in den nächsten zwei Jahren von Audi und BMW mit rund 500 Mitarbeitern in den Standorten Neckarsulm, Ingolstadt und Ingolstadt sowie einem weiteren Logistik- und Vertriebszentrum in Ingolstadt und München geführt. Audi hat rund 500 Mitarbeiter in den Werken Neckarsulm, Ingolstadt und Ingolstadt, die zum Teil auch als Standorte der Konzerntochter Audi AG firmieren. Audi hat rund 500 Mitarbeiter in den Werken Ingolstadt, Ingolstadt und Ingolstadt sowie einem weiteren Logistik- und Vertriebszentrum in München und Ingolstadt. Die neuen Joint Ventures sollen in den kommenden Jahren zu einem Teil des Audi-Konzerns werden und in den nächsten Jahren zu einem Teil des Audi-Konzerns werden. Die neuen Unternehmen werden in den nächsten zwei Jahren zu einem Teil des Audi-Konzerns werden. Die neue Gesellschaft werde in'"
            ]
          },
          "metadata": {
            "tags": []
          },
          "execution_count": 156
        }
      ]
    }
  ]
}